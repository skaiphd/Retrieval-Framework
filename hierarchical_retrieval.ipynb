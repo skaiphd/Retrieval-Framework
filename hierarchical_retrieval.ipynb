{
 "cells": [
  {
   "cell_type": "code",
   "execution_count": 1,
   "id": "initial_id",
   "metadata": {
    "collapsed": true,
    "ExecuteTime": {
     "end_time": "2024-01-31T17:30:36.468390Z",
     "start_time": "2024-01-31T17:30:36.457032Z"
    }
   },
   "outputs": [],
   "source": [
    "from dotenv import load_dotenv, find_dotenv\n",
    "\n",
    "_ = load_dotenv(find_dotenv(\".env\"))  # read local .env file"
   ]
  },
  {
   "cell_type": "code",
   "outputs": [],
   "source": [
    "from pathlib import Path"
   ],
   "metadata": {
    "collapsed": false,
    "ExecuteTime": {
     "end_time": "2024-01-31T17:30:37.508175Z",
     "start_time": "2024-01-31T17:30:37.505652Z"
    }
   },
   "id": "f3d241d01e6cce8e",
   "execution_count": 2
  },
  {
   "cell_type": "code",
   "outputs": [],
   "source": [
    "from llama_index.llms import AzureOpenAI\n",
    "from llama_index.multi_modal_llms.azure_openai import AzureOpenAIMultiModal"
   ],
   "metadata": {
    "collapsed": false,
    "ExecuteTime": {
     "end_time": "2024-01-31T17:30:44.283664Z",
     "start_time": "2024-01-31T17:30:38.020695Z"
    }
   },
   "id": "c0b258e732dad90f",
   "execution_count": 3
  },
  {
   "cell_type": "code",
   "outputs": [],
   "source": [
    "from llama_index.llms import AzureOpenAI\n",
    "from llama_index.embeddings import AzureOpenAIEmbedding\n",
    "from llama_index import ServiceContext\n",
    "from llama_index import set_global_service_context\n",
    "\n",
    "\n",
    "def set_azure():\n",
    "    llm = AzureOpenAI(\n",
    "        azure_deployment=\"gpt-4-1106\",\n",
    "        openai_api_version=\"2023-07-01-preview\",\n",
    "    )\n",
    "\n",
    "    # You need to deploy your own embedding model as well as your own chat completion model\n",
    "    embed_model = AzureOpenAIEmbedding(\n",
    "        deployment_name=\"text-embedding-ada-002\",\n",
    "        api_version=\"2023-07-01-preview\",\n",
    "    )\n",
    "\n",
    "    service_context = ServiceContext.from_defaults(\n",
    "        llm=llm,\n",
    "        embed_model=embed_model,\n",
    "    )\n",
    "\n",
    "    set_global_service_context(service_context)\n",
    "    \n",
    "set_azure()"
   ],
   "metadata": {
    "collapsed": false,
    "ExecuteTime": {
     "end_time": "2024-01-31T17:30:47.203625Z",
     "start_time": "2024-01-31T17:30:46.119796Z"
    }
   },
   "id": "c57c7b4b87047ae9",
   "execution_count": 4
  },
  {
   "cell_type": "markdown",
   "source": [
    "## Set up the processor and the parser"
   ],
   "metadata": {
    "collapsed": false
   },
   "id": "41f5d5ee78edecc3"
  },
  {
   "cell_type": "code",
   "outputs": [],
   "source": [
    "text_model = AzureOpenAI(\n",
    "    azure_deployment=\"gpt-4-1106\",\n",
    "    openai_api_version=\"2023-07-01-preview\",\n",
    ")\n",
    "vision_model = AzureOpenAIMultiModal(\n",
    "    azure_deployment=\"gpt-4-v\",\n",
    "    openai_api_version=\"2023-07-01-preview\",\n",
    "    max_new_tokens=4096,\n",
    ")"
   ],
   "metadata": {
    "collapsed": false,
    "ExecuteTime": {
     "end_time": "2024-01-31T17:30:47.396521Z",
     "start_time": "2024-01-31T17:30:47.376421Z"
    }
   },
   "id": "ceafe8cdf00353df",
   "execution_count": 5
  },
  {
   "cell_type": "code",
   "outputs": [],
   "source": [
    "from pdf_processor.core import MathpixProcessor, MathpixResultParser\n",
    "from pdf_processor.core import MathpixResult, PdfResult"
   ],
   "metadata": {
    "collapsed": false,
    "ExecuteTime": {
     "end_time": "2024-01-31T17:30:47.862074Z",
     "start_time": "2024-01-31T17:30:47.848158Z"
    }
   },
   "id": "aebdf9f629dbebd1",
   "execution_count": 6
  },
  {
   "cell_type": "code",
   "outputs": [],
   "source": [
    "processor = MathpixProcessor()\n",
    "parser = MathpixResultParser(text_model, vision_model)"
   ],
   "metadata": {
    "collapsed": false,
    "ExecuteTime": {
     "end_time": "2024-01-31T17:30:48.477529Z",
     "start_time": "2024-01-31T17:30:48.470076Z"
    }
   },
   "id": "f13e6b839392161",
   "execution_count": 7
  },
  {
   "cell_type": "markdown",
   "source": [
    "## Load example PDF"
   ],
   "metadata": {
    "collapsed": false
   },
   "id": "6a8c8ced07fa9ea6"
  },
  {
   "cell_type": "code",
   "outputs": [],
   "source": [
    "pdf_path = Path(\"inbox/2312.10997.pdf\")"
   ],
   "metadata": {
    "collapsed": false,
    "ExecuteTime": {
     "end_time": "2024-01-31T17:30:49.674136Z",
     "start_time": "2024-01-31T17:30:49.667512Z"
    }
   },
   "id": "e8585aa16db2fe66",
   "execution_count": 8
  },
  {
   "cell_type": "code",
   "outputs": [],
   "source": [
    "result_path = Path(\"results\").joinpath(pdf_path.stem)\n",
    "result_path.mkdir(exist_ok=True, parents=True)"
   ],
   "metadata": {
    "collapsed": false,
    "ExecuteTime": {
     "end_time": "2024-01-31T17:30:50.268159Z",
     "start_time": "2024-01-31T17:30:50.257750Z"
    }
   },
   "id": "e32c4e4501cfd8b0",
   "execution_count": 9
  },
  {
   "cell_type": "markdown",
   "source": [
    "## Run PDF through Mathpix API\n",
    "\n",
    "Skip the processing and load the result from a JSON"
   ],
   "metadata": {
    "collapsed": false
   },
   "id": "e489283b185c5c6"
  },
  {
   "cell_type": "code",
   "outputs": [],
   "source": [
    "# mathpix_result = processor.submit_pdf(pdf_path)\n",
    "# mathpix_result = processor.await_result(mathpix_result, timeout_s=120)"
   ],
   "metadata": {
    "collapsed": false,
    "ExecuteTime": {
     "end_time": "2024-01-31T17:30:51.291370Z",
     "start_time": "2024-01-31T17:30:51.285879Z"
    }
   },
   "id": "62ea24954fc8c764",
   "execution_count": 10
  },
  {
   "cell_type": "code",
   "outputs": [],
   "source": [
    "# with result_path.joinpath(\"mathpix_result.json\").open(\"w\") as f:\n",
    "#     f.write(mathpix_result.model_dump_json())"
   ],
   "metadata": {
    "collapsed": false,
    "ExecuteTime": {
     "end_time": "2024-01-31T17:30:51.887967Z",
     "start_time": "2024-01-31T17:30:51.878996Z"
    }
   },
   "id": "8752e9d6bd288fc",
   "execution_count": 11
  },
  {
   "cell_type": "code",
   "outputs": [],
   "source": [
    "with result_path.joinpath(\"mathpix_result.json\").open(\"r\") as f:\n",
    "    mathpix_result = MathpixResult.model_validate_json(f.read())"
   ],
   "metadata": {
    "collapsed": false,
    "ExecuteTime": {
     "end_time": "2024-01-31T17:30:52.309459Z",
     "start_time": "2024-01-31T17:30:52.299258Z"
    }
   },
   "id": "42b04df68d0e8bb",
   "execution_count": 12
  },
  {
   "cell_type": "markdown",
   "source": [
    "## Parse Mathpix output through the parser\n",
    "\n",
    "Same deal here, load from JSON"
   ],
   "metadata": {
    "collapsed": false
   },
   "id": "a396d999ea37a8f"
  },
  {
   "cell_type": "code",
   "outputs": [],
   "source": [
    "# pdf_result = parser.parse_result(mathpix_result)"
   ],
   "metadata": {
    "collapsed": false,
    "ExecuteTime": {
     "end_time": "2024-01-31T17:30:53.494783Z",
     "start_time": "2024-01-31T17:30:53.488357Z"
    }
   },
   "id": "b595b6286e555cce",
   "execution_count": 13
  },
  {
   "cell_type": "code",
   "outputs": [],
   "source": [
    "# with result_path.joinpath(\"pdf_result-2.json\").open(\"w\") as f:\n",
    "#     f.write(pdf_result.model_dump_json())"
   ],
   "metadata": {
    "collapsed": false,
    "ExecuteTime": {
     "end_time": "2024-01-31T17:30:53.796795Z",
     "start_time": "2024-01-31T17:30:53.789339Z"
    }
   },
   "id": "d7d78c7303ce425a",
   "execution_count": 14
  },
  {
   "cell_type": "code",
   "outputs": [],
   "source": [
    "with result_path.joinpath(\"pdf_result-2.json\").open(\"r\") as f:\n",
    "    pdf_result = PdfResult.model_validate_json(f.read())"
   ],
   "metadata": {
    "collapsed": false,
    "ExecuteTime": {
     "end_time": "2024-01-31T17:30:54.008979Z",
     "start_time": "2024-01-31T17:30:53.991534Z"
    }
   },
   "id": "d099dfd31233a4ab",
   "execution_count": 15
  },
  {
   "cell_type": "markdown",
   "source": [
    "## Convert PdfResult into LlamaIndex nodes"
   ],
   "metadata": {
    "collapsed": false
   },
   "id": "e6564c623d4730be"
  },
  {
   "cell_type": "code",
   "outputs": [],
   "source": [
    "from llama_index.schema import TextNode, ImageNode, IndexNode, NodeRelationship"
   ],
   "metadata": {
    "collapsed": false,
    "ExecuteTime": {
     "end_time": "2024-01-31T17:30:54.709702Z",
     "start_time": "2024-01-31T17:30:54.704695Z"
    }
   },
   "id": "96f9a399a929640d",
   "execution_count": 16
  },
  {
   "cell_type": "code",
   "outputs": [],
   "source": [
    "base_nodes = []\n",
    "index_nodes = []"
   ],
   "metadata": {
    "collapsed": false,
    "ExecuteTime": {
     "end_time": "2024-01-31T17:30:55.069544Z",
     "start_time": "2024-01-31T17:30:55.064433Z"
    }
   },
   "id": "f1a8f34ff68afd7a",
   "execution_count": 17
  },
  {
   "cell_type": "code",
   "outputs": [],
   "source": [
    "from llama_index.node_parser import SentenceSplitter\n",
    "from llama_index import Document\n",
    "\n",
    "\n",
    "splitter = SentenceSplitter()\n",
    "for text_chunk in pdf_result.text:\n",
    "    doc = Document(text=text_chunk.processed_content)\n",
    "    nodes = splitter.get_nodes_from_documents([doc])\n",
    "    \n",
    "    for node in nodes:\n",
    "        node.start_char_idx += text_chunk.start\n",
    "        node.end_char_idx += text_chunk.end\n",
    "        \n",
    "    base_nodes.extend(nodes)"
   ],
   "metadata": {
    "collapsed": false,
    "ExecuteTime": {
     "end_time": "2024-01-31T17:30:55.485144Z",
     "start_time": "2024-01-31T17:30:55.395827Z"
    }
   },
   "id": "9e5e76edfc221108",
   "execution_count": 18
  },
  {
   "cell_type": "code",
   "outputs": [],
   "source": [
    "for table_chunk in pdf_result.tables:\n",
    "    base_node = TextNode(\n",
    "        text=table_chunk.raw_content,\n",
    "        start_char_idx=table_chunk.start,\n",
    "        end_char_idx=table_chunk.end,\n",
    "    )\n",
    "    index_node = IndexNode.from_text_node(\n",
    "        node=TextNode(\n",
    "            text=table_chunk.processed_content,\n",
    "            start_char_idx=table_chunk.start,\n",
    "            end_char_idx=table_chunk.end,\n",
    "        ),\n",
    "        index_id=base_node.node_id,\n",
    "    )\n",
    "    base_nodes.append(base_node)\n",
    "    index_nodes.append(index_node)\n"
   ],
   "metadata": {
    "collapsed": false,
    "ExecuteTime": {
     "end_time": "2024-01-31T17:30:55.596073Z",
     "start_time": "2024-01-31T17:30:55.591524Z"
    }
   },
   "id": "8603f66ededb48b2",
   "execution_count": 19
  },
  {
   "cell_type": "markdown",
   "source": [
    "Need to figure out how to treat images"
   ],
   "metadata": {
    "collapsed": false
   },
   "id": "1c02f42fe86f50ff"
  },
  {
   "cell_type": "code",
   "outputs": [],
   "source": [
    "# for image_chunk in pdf_result.images:\n",
    "#     base_node = ImageNode(  # no text here\n",
    "#         image=image_chunk.file_b64,\n",
    "#         image_path=image_chunk.filename,\n",
    "#         image_mimetype=\"image/jpeg\",\n",
    "#         start_char_idx=image_chunk.start,\n",
    "#         end_char_idx=image_chunk.end,\n",
    "#     )\n",
    "#     index_node = IndexNode.from_text_node(\n",
    "#         node=TextNode(\n",
    "#             text=image_chunk.processed_content,\n",
    "#             start_char_idx=image_chunk.start,\n",
    "#             end_char_idx=image_chunk.end,\n",
    "#         ),\n",
    "#         index_id=base_node.node_id,\n",
    "#     )\n",
    "#     base_nodes.append(base_node)\n",
    "#     index_nodes.append(index_node)\n"
   ],
   "metadata": {
    "collapsed": false,
    "ExecuteTime": {
     "end_time": "2024-01-31T17:30:56.078779Z",
     "start_time": "2024-01-31T17:30:56.072573Z"
    }
   },
   "id": "ee21b5304287cdec",
   "execution_count": 20
  },
  {
   "cell_type": "markdown",
   "source": [
    "Set neighboring nodes relationships"
   ],
   "metadata": {
    "collapsed": false
   },
   "id": "b53ec634b374f8c6"
  },
  {
   "cell_type": "code",
   "outputs": [],
   "source": [
    "def find_node_by_id(in_nodes, node_id):\n",
    "    for node in in_nodes:\n",
    "        if node.node_id == node_id:\n",
    "            return node\n",
    "    return None"
   ],
   "metadata": {
    "collapsed": false,
    "ExecuteTime": {
     "end_time": "2024-01-31T17:30:56.667202Z",
     "start_time": "2024-01-31T17:30:56.662823Z"
    }
   },
   "id": "44ccb5ef55fd401e",
   "execution_count": 21
  },
  {
   "cell_type": "code",
   "outputs": [],
   "source": [
    "base_nodes = sorted(base_nodes, key=lambda node: node.start_char_idx)\n",
    "\n",
    "for i, node in enumerate(base_nodes):\n",
    "    if i > 0:\n",
    "        node.relationships[NodeRelationship.PREVIOUS] = base_nodes[i - 1].as_related_node_info()\n",
    "    if i < len(base_nodes) - 1:\n",
    "        node.relationships[NodeRelationship.NEXT] = base_nodes[i + 1].as_related_node_info()\n",
    "\n",
    "for i, node in enumerate(index_nodes):\n",
    "    node.relationships = find_node_by_id(base_nodes, node.index_id).relationships\n"
   ],
   "metadata": {
    "collapsed": false,
    "ExecuteTime": {
     "end_time": "2024-01-31T17:30:56.825314Z",
     "start_time": "2024-01-31T17:30:56.820620Z"
    }
   },
   "id": "b4baef98f021967d",
   "execution_count": 22
  },
  {
   "cell_type": "markdown",
   "source": [
    "## Set up LlamaIndex hierarchical retrieval"
   ],
   "metadata": {
    "collapsed": false
   },
   "id": "b3a3e5a9931a6736"
  },
  {
   "cell_type": "code",
   "outputs": [],
   "source": [
    "from llama_index.node_parser import UnstructuredElementNodeParser\n",
    "\n",
    "node_parser = UnstructuredElementNodeParser()\n",
    "new_base_nodes, node_mappings = node_parser.get_base_nodes_and_mappings(base_nodes + index_nodes)"
   ],
   "metadata": {
    "collapsed": false,
    "ExecuteTime": {
     "end_time": "2024-01-31T17:30:58.058429Z",
     "start_time": "2024-01-31T17:30:58.051371Z"
    }
   },
   "id": "e73b2f3be3c0d43f",
   "execution_count": 23
  },
  {
   "cell_type": "code",
   "outputs": [],
   "source": [
    "from llama_index.query_engine import RetrieverQueryEngine\n",
    "from llama_index import VectorStoreIndex"
   ],
   "metadata": {
    "collapsed": false,
    "ExecuteTime": {
     "end_time": "2024-01-31T17:30:58.584418Z",
     "start_time": "2024-01-31T17:30:58.375032Z"
    }
   },
   "id": "1e8c9eb1868b571d",
   "execution_count": 24
  },
  {
   "cell_type": "code",
   "outputs": [],
   "source": [
    "# construct top-level vector index + query engine\n",
    "vector_index = VectorStoreIndex(new_base_nodes)\n",
    "vector_retriever = vector_index.as_retriever(similarity_top_k=1)\n",
    "vector_query_engine = vector_index.as_query_engine(similarity_top_k=1)"
   ],
   "metadata": {
    "collapsed": false,
    "ExecuteTime": {
     "end_time": "2024-01-31T17:31:59.979503Z",
     "start_time": "2024-01-31T17:30:58.752404Z"
    }
   },
   "id": "119a49609d856865",
   "execution_count": 25
  },
  {
   "cell_type": "code",
   "outputs": [],
   "source": [
    "from llama_index.retrievers import RecursiveRetriever\n",
    "\n",
    "recursive_retriever = RecursiveRetriever(\n",
    "    \"vector\",\n",
    "    retriever_dict={\"vector\": vector_retriever},\n",
    "    node_dict=node_mappings,\n",
    "    verbose=True,\n",
    ")\n",
    "query_engine = RetrieverQueryEngine.from_args(recursive_retriever)"
   ],
   "metadata": {
    "collapsed": false,
    "ExecuteTime": {
     "end_time": "2024-01-31T17:31:59.988303Z",
     "start_time": "2024-01-31T17:31:59.980760Z"
    }
   },
   "id": "9e028c0489b718b1",
   "execution_count": 26
  },
  {
   "cell_type": "code",
   "outputs": [
    {
     "name": "stdout",
     "output_type": "stream",
     "text": [
      "There are three paradigms of RAG: Naive RAG, Advanced RAG, and Modular RAG. Advanced RAG is a specialized form of Modular RAG, and Naive RAG is a special case of Advanced RAG.\n"
     ]
    }
   ],
   "source": [
    "response = query_engine.query(\"What paradigms of RAG exist?\")\n",
    "print(str(response))"
   ],
   "metadata": {
    "collapsed": false,
    "ExecuteTime": {
     "end_time": "2024-01-31T17:32:03.906301Z",
     "start_time": "2024-01-31T17:31:59.988589Z"
    }
   },
   "id": "d012b7ad91dafc51",
   "execution_count": 27
  },
  {
   "cell_type": "code",
   "outputs": [],
   "source": [],
   "metadata": {
    "collapsed": false
   },
   "id": "e8113f10716c3c48"
  }
 ],
 "metadata": {
  "kernelspec": {
   "display_name": "Python 3",
   "language": "python",
   "name": "python3"
  },
  "language_info": {
   "codemirror_mode": {
    "name": "ipython",
    "version": 2
   },
   "file_extension": ".py",
   "mimetype": "text/x-python",
   "name": "python",
   "nbconvert_exporter": "python",
   "pygments_lexer": "ipython2",
   "version": "2.7.6"
  }
 },
 "nbformat": 4,
 "nbformat_minor": 5
}
