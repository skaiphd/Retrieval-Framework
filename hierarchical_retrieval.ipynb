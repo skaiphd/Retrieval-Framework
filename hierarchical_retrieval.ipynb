{
 "cells": [
  {
   "cell_type": "code",
   "execution_count": 1,
   "id": "initial_id",
   "metadata": {
    "ExecuteTime": {
     "end_time": "2024-01-31T17:30:36.468390Z",
     "start_time": "2024-01-31T17:30:36.457032Z"
    }
   },
   "outputs": [],
   "source": [
    "from dotenv import load_dotenv, find_dotenv\n",
    "\n",
    "_ = load_dotenv(find_dotenv(\".env\"))  # read local .env file"
   ]
  },
  {
   "cell_type": "code",
   "execution_count": 2,
   "id": "f3d241d01e6cce8e",
   "metadata": {
    "ExecuteTime": {
     "end_time": "2024-01-31T17:30:37.508175Z",
     "start_time": "2024-01-31T17:30:37.505652Z"
    },
    "collapsed": false,
    "jupyter": {
     "outputs_hidden": false
    }
   },
   "outputs": [],
   "source": [
    "from pathlib import Path\n",
    "from tqdm import tqdm"
   ]
  },
  {
   "cell_type": "code",
   "execution_count": 3,
   "id": "c57c7b4b87047ae9",
   "metadata": {
    "ExecuteTime": {
     "end_time": "2024-01-31T17:30:47.203625Z",
     "start_time": "2024-01-31T17:30:46.119796Z"
    },
    "collapsed": false,
    "jupyter": {
     "outputs_hidden": false
    }
   },
   "outputs": [],
   "source": [
    "from llama_index.llms.azure_openai import AzureOpenAI\n",
    "from llama_index.multi_modal_llms.openai import OpenAIMultiModal\n",
    "from llama_index.embeddings.azure_openai import AzureOpenAIEmbedding\n",
    "from llama_index.core import Settings\n",
    "\n",
    "openai_api_version = \"2023-07-01-preview\"\n",
    "\n",
    "gpt4 = AzureOpenAI(\n",
    "    azure_deployment=\"gpt-4-1106\",\n",
    "    openai_api_version=openai_api_version,\n",
    ")\n",
    "\n",
    "# You need to deploy your own embedding model as well as your own chat completion model\n",
    "embed_model = AzureOpenAIEmbedding(\n",
    "    deployment_name=\"text-embedding-ada-002\",\n",
    "    api_version=openai_api_version,\n",
    "    embed_batch_size=100,\n",
    ")\n",
    "\n",
    "Settings.llm = gpt4\n",
    "Settings.embed_model = embed_model"
   ]
  },
  {
   "cell_type": "markdown",
   "id": "41f5d5ee78edecc3",
   "metadata": {
    "collapsed": false,
    "jupyter": {
     "outputs_hidden": false
    }
   },
   "source": [
    "## Set up the processor and the parser"
   ]
  },
  {
   "cell_type": "code",
   "execution_count": null,
   "id": "ceafe8cdf00353df",
   "metadata": {
    "ExecuteTime": {
     "end_time": "2024-01-31T17:30:47.396521Z",
     "start_time": "2024-01-31T17:30:47.376421Z"
    },
    "collapsed": false,
    "jupyter": {
     "outputs_hidden": false
    }
   },
   "outputs": [],
   "source": [
    "text_model = AzureOpenAI(\n",
    "    azure_deployment=\"gpt-4-1106\",\n",
    "    openai_api_version=\"2023-07-01-preview\",\n",
    ")\n",
    "vision_model = AzureOpenAIMultiModal(\n",
    "    azure_deployment=\"gpt-4-v\",\n",
    "    openai_api_version=\"2023-07-01-preview\",\n",
    "    max_new_tokens=4096,\n",
    ")"
   ]
  },
  {
   "cell_type": "code",
   "execution_count": 4,
   "id": "aebdf9f629dbebd1",
   "metadata": {
    "ExecuteTime": {
     "end_time": "2024-01-31T17:30:47.862074Z",
     "start_time": "2024-01-31T17:30:47.848158Z"
    },
    "collapsed": false,
    "jupyter": {
     "outputs_hidden": false
    }
   },
   "outputs": [],
   "source": [
    "from pdf_processor.core import MathpixProcessor, MathpixResultParser\n",
    "from pdf_processor.core import MathpixResult, PdfResult"
   ]
  },
  {
   "cell_type": "code",
   "execution_count": null,
   "id": "f13e6b839392161",
   "metadata": {
    "ExecuteTime": {
     "end_time": "2024-01-31T17:30:48.477529Z",
     "start_time": "2024-01-31T17:30:48.470076Z"
    },
    "collapsed": false,
    "jupyter": {
     "outputs_hidden": false
    }
   },
   "outputs": [],
   "source": [
    "processor = MathpixProcessor()\n",
    "parser = MathpixResultParser(text_model, vision_model)"
   ]
  },
  {
   "cell_type": "markdown",
   "id": "6a8c8ced07fa9ea6",
   "metadata": {
    "collapsed": false,
    "jupyter": {
     "outputs_hidden": false
    }
   },
   "source": [
    "## Load example PDF"
   ]
  },
  {
   "cell_type": "code",
   "execution_count": 5,
   "id": "e8585aa16db2fe66",
   "metadata": {
    "ExecuteTime": {
     "end_time": "2024-01-31T17:30:49.674136Z",
     "start_time": "2024-01-31T17:30:49.667512Z"
    },
    "collapsed": false,
    "jupyter": {
     "outputs_hidden": false
    }
   },
   "outputs": [],
   "source": [
    "pdf_path = Path(\"inbox/2312.10997.pdf\")"
   ]
  },
  {
   "cell_type": "code",
   "execution_count": 6,
   "id": "e32c4e4501cfd8b0",
   "metadata": {
    "ExecuteTime": {
     "end_time": "2024-01-31T17:30:50.268159Z",
     "start_time": "2024-01-31T17:30:50.257750Z"
    },
    "collapsed": false,
    "jupyter": {
     "outputs_hidden": false
    }
   },
   "outputs": [],
   "source": [
    "result_path = Path(\"results\").joinpath(pdf_path.stem)\n",
    "result_path.mkdir(exist_ok=True, parents=True)"
   ]
  },
  {
   "cell_type": "markdown",
   "id": "e489283b185c5c6",
   "metadata": {
    "collapsed": false,
    "jupyter": {
     "outputs_hidden": false
    }
   },
   "source": [
    "## Run PDF through Mathpix API\n",
    "\n",
    "Skip the processing and load the result from a JSON"
   ]
  },
  {
   "cell_type": "code",
   "execution_count": null,
   "id": "62ea24954fc8c764",
   "metadata": {
    "ExecuteTime": {
     "end_time": "2024-01-31T17:30:51.291370Z",
     "start_time": "2024-01-31T17:30:51.285879Z"
    },
    "collapsed": false,
    "jupyter": {
     "outputs_hidden": false
    }
   },
   "outputs": [],
   "source": [
    "mathpix_result = processor.submit_pdf(pdf_path)\n",
    "mathpix_result = processor.await_result(mathpix_result, timeout_s=120)"
   ]
  },
  {
   "cell_type": "code",
   "execution_count": null,
   "id": "8752e9d6bd288fc",
   "metadata": {
    "ExecuteTime": {
     "end_time": "2024-01-31T17:30:51.887967Z",
     "start_time": "2024-01-31T17:30:51.878996Z"
    },
    "collapsed": false,
    "jupyter": {
     "outputs_hidden": false
    }
   },
   "outputs": [],
   "source": [
    "# with result_path.joinpath(\"mathpix_result.json\").open(\"w\") as f:\n",
    "#     f.write(mathpix_result.model_dump_json())\n",
    "\n",
    "# with result_path.joinpath(\"mathpix_result.json\").open(\"r\") as f:\n",
    "#     mathpix_result = MathpixResult.model_validate_json(f.read())"
   ]
  },
  {
   "cell_type": "markdown",
   "id": "a396d999ea37a8f",
   "metadata": {
    "collapsed": false,
    "jupyter": {
     "outputs_hidden": false
    }
   },
   "source": [
    "## Parse Mathpix output through the parser\n",
    "\n",
    "Same deal here, load from JSON"
   ]
  },
  {
   "cell_type": "code",
   "execution_count": null,
   "id": "b595b6286e555cce",
   "metadata": {
    "ExecuteTime": {
     "end_time": "2024-01-31T17:30:53.494783Z",
     "start_time": "2024-01-31T17:30:53.488357Z"
    },
    "collapsed": false,
    "jupyter": {
     "outputs_hidden": false
    }
   },
   "outputs": [],
   "source": [
    "pdf_result = parser.parse_result(mathpix_result)"
   ]
  },
  {
   "cell_type": "code",
   "execution_count": null,
   "id": "d7d78c7303ce425a",
   "metadata": {
    "ExecuteTime": {
     "end_time": "2024-01-31T17:30:53.796795Z",
     "start_time": "2024-01-31T17:30:53.789339Z"
    },
    "collapsed": false,
    "jupyter": {
     "outputs_hidden": false
    }
   },
   "outputs": [],
   "source": [
    "# Store results\n",
    "\n",
    "# with result_path.joinpath(\"pdf_result-2.json\").open(\"w\") as f:\n",
    "#     f.write(pdf_result.model_dump_json())\n",
    "\n",
    "# Load results\n",
    "\n",
    "# with result_path.joinpath(\"pdf_result-2.json\").open(\"r\") as f:\n",
    "#     pdf_result = PdfResult.model_validate_json(f.read())"
   ]
  },
  {
   "cell_type": "markdown",
   "id": "e6564c623d4730be",
   "metadata": {
    "collapsed": false,
    "jupyter": {
     "outputs_hidden": false
    }
   },
   "source": [
    "## Convert PdfResult into LlamaIndex nodes"
   ]
  },
  {
   "cell_type": "code",
   "execution_count": 9,
   "id": "96f9a399a929640d",
   "metadata": {
    "ExecuteTime": {
     "end_time": "2024-01-31T17:30:54.709702Z",
     "start_time": "2024-01-31T17:30:54.704695Z"
    },
    "collapsed": false,
    "jupyter": {
     "outputs_hidden": false
    }
   },
   "outputs": [],
   "source": [
    "from llama_index.core.schema import TextNode, ImageNode, IndexNode, NodeRelationship"
   ]
  },
  {
   "cell_type": "code",
   "execution_count": 10,
   "id": "f1a8f34ff68afd7a",
   "metadata": {
    "ExecuteTime": {
     "end_time": "2024-01-31T17:30:55.069544Z",
     "start_time": "2024-01-31T17:30:55.064433Z"
    },
    "collapsed": false,
    "jupyter": {
     "outputs_hidden": false
    }
   },
   "outputs": [],
   "source": [
    "stored_nodes = []\n",
    "full_nodes_dict = {}"
   ]
  },
  {
   "cell_type": "code",
   "execution_count": 11,
   "id": "9e5e76edfc221108",
   "metadata": {
    "ExecuteTime": {
     "end_time": "2024-01-31T17:30:55.485144Z",
     "start_time": "2024-01-31T17:30:55.395827Z"
    },
    "collapsed": false,
    "jupyter": {
     "outputs_hidden": false
    }
   },
   "outputs": [],
   "source": [
    "from llama_index.core.node_parser import SentenceSplitter\n",
    "from llama_index.core import Document\n",
    "\n",
    "splitter = SentenceSplitter()\n",
    "for text_chunk in pdf_result.text:\n",
    "    doc = Document(text=text_chunk.processed_content)\n",
    "    nodes = splitter.get_nodes_from_documents([doc])\n",
    "    \n",
    "    for node in nodes:\n",
    "        node.start_char_idx += text_chunk.start\n",
    "        node.end_char_idx += text_chunk.end\n",
    "        \n",
    "    stored_nodes.extend(nodes)"
   ]
  },
  {
   "cell_type": "code",
   "execution_count": 12,
   "id": "8603f66ededb48b2",
   "metadata": {
    "ExecuteTime": {
     "end_time": "2024-01-31T17:30:55.596073Z",
     "start_time": "2024-01-31T17:30:55.591524Z"
    },
    "collapsed": false,
    "jupyter": {
     "outputs_hidden": false
    }
   },
   "outputs": [],
   "source": [
    "for table_chunk in pdf_result.tables:\n",
    "    full_node = TextNode(\n",
    "        text=table_chunk.raw_content,\n",
    "        start_char_idx=table_chunk.start,\n",
    "        end_char_idx=table_chunk.end,\n",
    "    )\n",
    "    stored_node = IndexNode.from_text_node(\n",
    "        node=TextNode(\n",
    "            text=table_chunk.processed_content,\n",
    "            start_char_idx=table_chunk.start,\n",
    "            end_char_idx=table_chunk.end,\n",
    "        ),\n",
    "        index_id=full_node.node_id,\n",
    "    )\n",
    "    stored_nodes.append(stored_node)\n",
    "    full_nodes_dict[full_node.node_id] = full_node\n"
   ]
  },
  {
   "cell_type": "code",
   "execution_count": 13,
   "id": "ee21b5304287cdec",
   "metadata": {
    "ExecuteTime": {
     "end_time": "2024-01-31T17:30:56.078779Z",
     "start_time": "2024-01-31T17:30:56.072573Z"
    },
    "collapsed": false,
    "jupyter": {
     "outputs_hidden": false
    }
   },
   "outputs": [],
   "source": [
    "for image_chunk in pdf_result.images:\n",
    "    full_node = ImageNode(  # no text here\n",
    "        image=image_chunk.file_b64,\n",
    "        image_path=image_chunk.filename,\n",
    "        image_mimetype=\"image/jpeg\",\n",
    "        start_char_idx=image_chunk.start,\n",
    "        end_char_idx=image_chunk.end,\n",
    "    )\n",
    "    stored_node = IndexNode.from_text_node(\n",
    "        node=TextNode(\n",
    "            text=image_chunk.processed_content,\n",
    "            start_char_idx=image_chunk.start,\n",
    "            end_char_idx=image_chunk.end,\n",
    "        ),\n",
    "        index_id=full_node.node_id,\n",
    "    )\n",
    "    stored_nodes.append(stored_node)\n",
    "    full_nodes_dict[full_node.node_id] = full_node"
   ]
  },
  {
   "cell_type": "markdown",
   "id": "b53ec634b374f8c6",
   "metadata": {
    "collapsed": false,
    "jupyter": {
     "outputs_hidden": false
    }
   },
   "source": [
    "Set neighboring nodes relationships"
   ]
  },
  {
   "cell_type": "code",
   "execution_count": 14,
   "id": "b4baef98f021967d",
   "metadata": {
    "ExecuteTime": {
     "end_time": "2024-01-31T17:30:56.825314Z",
     "start_time": "2024-01-31T17:30:56.820620Z"
    },
    "collapsed": false,
    "jupyter": {
     "outputs_hidden": false
    }
   },
   "outputs": [],
   "source": [
    "stored_nodes = sorted(stored_nodes, key=lambda node: node.start_char_idx)\n",
    "\n",
    "for i, node in enumerate(stored_nodes):\n",
    "    if i > 0:\n",
    "        node.relationships[NodeRelationship.PREVIOUS] = stored_nodes[i - 1].as_related_node_info()\n",
    "    if i < len(stored_nodes) - 1:\n",
    "        node.relationships[NodeRelationship.NEXT] = stored_nodes[i + 1].as_related_node_info()"
   ]
  },
  {
   "cell_type": "markdown",
   "id": "b3a3e5a9931a6736",
   "metadata": {
    "collapsed": false,
    "jupyter": {
     "outputs_hidden": false
    }
   },
   "source": [
    "## Set up LlamaIndex hierarchical retrieval"
   ]
  },
  {
   "cell_type": "code",
   "execution_count": 16,
   "id": "119a49609d856865",
   "metadata": {
    "ExecuteTime": {
     "end_time": "2024-01-31T17:31:59.979503Z",
     "start_time": "2024-01-31T17:30:58.752404Z"
    },
    "collapsed": false,
    "jupyter": {
     "outputs_hidden": false
    }
   },
   "outputs": [],
   "source": [
    "from llama_index.core import VectorStoreIndex\n",
    "\n",
    "vector_index = VectorStoreIndex(stored_nodes)\n",
    "vector_retriever = vector_index.as_retriever(similarity_top_k=5)"
   ]
  },
  {
   "cell_type": "code",
   "execution_count": 17,
   "id": "9e028c0489b718b1",
   "metadata": {
    "ExecuteTime": {
     "end_time": "2024-01-31T17:31:59.988303Z",
     "start_time": "2024-01-31T17:31:59.980760Z"
    },
    "collapsed": false,
    "jupyter": {
     "outputs_hidden": false
    }
   },
   "outputs": [],
   "source": [
    "from llama_index.core.retrievers import RecursiveRetriever\n",
    "\n",
    "recursive_retriever = RecursiveRetriever(\n",
    "    \"vector\",\n",
    "    retriever_dict={\"vector\": vector_retriever},\n",
    "    node_dict=full_nodes_dict,\n",
    "    verbose=False,\n",
    ")"
   ]
  },
  {
   "cell_type": "code",
   "execution_count": 19,
   "id": "e8113f10716c3c48",
   "metadata": {
    "collapsed": false,
    "jupyter": {
     "outputs_hidden": false
    }
   },
   "outputs": [
    {
     "name": "stdout",
     "output_type": "stream",
     "text": [
      "\u001b[1;3;34mRetrieving with query id None: What paradigms of RAG exist?\n",
      "\u001b[0m\u001b[1;3;38;5;200mRetrieving text node: \\end{center}\n",
      "\n",
      "Modular RAG\n",
      "\n",
      "Figure 3: Comparison between the three paradigms of RAG\n",
      "\n",
      "is depicted in Figure 3. However, Modular RAG is not standalone. Advanced RAG is a specialized form of modular RAG, and further, Naive RAG itself is a special case of Advanced RAG. The relationship among the three paradigms is one of inheritance and development.\n",
      "\n",
      "\\section*{New Modules}\n",
      "Search Module. In contrast to the similarity retrieval in Naive/Advanced RAG, the Search Module is tailored to specific scenarios and incorporates direct searches on additional corpora. This integration is achieved using code generated by the LLM, query languages such as SQL or Cypher, and other custom tools. The data sources for these searches can include search engines, text data, tabular data, and knowledge graphs [Wang et al., 2023d].\n",
      "\n",
      "Memory Module. This module harnesses the memory capabilities of the LLM to guide retrieval. The approach involves identifying memories most similar to the current input. Selfmem [Cheng et al., 2023b] utilizes a retrieval-enhanced generator to create an unbounded memory pool iteratively, combining the \"original question\" and \"dual question\". By employing a retrieval-enhanced generative model that uses its own outputs to improve itself, the text becomes more aligned with the data distribution during the reasoning process. Consequently, the model's own outputs are utilized instead of the training data [Wang et al., 2022a].\n",
      "\n",
      "Fusion. RAG-Fusion [Raudaschl, 2023]enhances traditional search systems by addressing their limitations through a multi-query approach that expands user queries into mul- tiple, diverse perspectives using an LLM. This approach not only captures the explicit information users seek but also uncovers deeper, transformative knowledge. The fusion process involves parallel vector searches of both original and expanded queries, intelligent re-ranking to optimize results, and pairing the best outcomes with new queries. This sophisticated method ensures search results that align closely with both the explicit and implicit intentions of the user, leading to more insightful and relevant information discovery.\n",
      "\n",
      "Routing. The RAG system's retrieval process utilizes diverse sources, differing in domain, language, and format, which can be either alternated or merged based on the situation [Li et al., 2023b]. Query routing decides the subsequent action to a user's query, with options ranging from summarization, searching specific databases, or merging different pathways into a single response. The query router also chooses the appropriate data store for the query, which may include various sources like vector stores, graph databases, or relational databases, or a hierarchy of indices-for instance, a summary index and a document block vector index for multidocument storage. The query router's decision-making is predefined and executed via LLMs calls, which direct the query to the chosen index.\n",
      "\n",
      "Predict . It addresses the common issues of redundancy and noise in retrieved content. Instead of directly retrieving from a data source, this module utilizes the LLM to generate the necessary context [Yu et al., 2022]. The content produced by the LLM is more likely to contain pertinent information compared to that obtained through direct retrieval.\n",
      "\n",
      "Task Adapter. This module focuses on adapting RAG to a variety of downstream tasks. UPRISE automates the retrieval of prompts for zero-shot task inputs from a pre-constructed data pool, thereby enhancing universality across tasks and models [Cheng et al., 2023a]. Meanwhile, PROMPTAGATOR [Dai et al., 2022] utilizes LLM as a few-shot query generator and, based on the generated data, creates task-specific retrievers. By leveraging the generalization capability of LLMs, it enables the development of task-specific end-to-end retrievers with minimal examples.\n",
      "\n",
      "\\section*{New Patterns}\n",
      "The organizational structure of Modular RAG is highly adaptable, allowing for the substitution or rearrangement of modules within the RAG process to suit specific problem contexts.\n",
      "\n",
      "Naive RAG and Advanced RAG can both be considered as being composed of some fixed modules. As illustrated in the figure 3, Naive RAG primarily consists of the \"Retrieve\" and \"Read\" modules. A typical pattern of Advanced RAG builds upon the foundation of Naive RAG by adding \"Rewrite\" and \"Rerank\" modules. However, on the whole, modular RAG enjoys greater diversity and flexibility.\n",
      "\n",
      "Current research primarily explores two organizational paradigms. The first involves adding or replacing modules, while the second focuses on adjusting the organizational flow between modules. This flexibility enables tailoring the RAG process to effectively address a wide array of tasks.\n",
      "\n",
      "Adding or Replacing Modules.The strategy of introducing or substituting modules involves maintaining the core structure of the Retrieval-Read process while integrating additional modules to enhance specific functionalities.\n",
      "\u001b[0m\u001b[1;3;38;5;200mRetrieving text node: During the evolution of the RAG technology landscape, there has been a clear divergence towards different specializations, such as: 1) Customization. Tailoring RAG to meet a specific requirements. 2) Simplification. Making RAG easier to use, thereby reducing the initial learning curve. 3) Specialization. Refining RAG to serve production environments more effectively.\n",
      "\n",
      "The mutual growth of RAG models and their technical stack is evident; technological advancements consistently establish new standards for the existing infrastructure. In turn, enhancements to the technical stack drive the evolution of RAG capabilities. The RAG toolkit is converging into a foundational technical stack, laying the groundwork for advanced enterprise applications. However, the concept of a fully integrated, comprehensive platform remains on the horizon, pending further innovation and development.\n",
      "\\footnotetext{\\({ }^{10} \\mathrm{https} / / /\\) \\href{http://flowiseai.com}{flowiseai.com}\n",
      "\n",
      "\\({ }^{11} \\mathrm{https}: / / \\mathrm{meltano.com}\\)\n",
      "\n",
      "\\({ }^{12} \\mathrm{https} / / /\\) \\href{http://cohere.com/coral}{cohere.com/coral}\n",
      "\n",
      "\\({ }^{13} \\mathrm{https}: / /\\) \\href{http://github.com/weaviate/Verba}{github.com/weaviate/Verba}\n",
      "\n",
      "\\({ }^{14}\\) \\href{https://aws.amazon.com/cn/kendra/}{https://aws.amazon.com/cn/kendra/}\n",
      "}\n",
      "\n",
      "\\begin{center}\n",
      "\u001b[0m\u001b[1;3;38;5;200mRetrieving text node: \\end{center}\n",
      "\n",
      "Figure 7: Summary of RAG ecosystem\n",
      "\n",
      "\\section*{9 Conclusion}\n",
      "The summary of this paper, as depicted in Figure 7, highlights RAG's significant advancement in enhancing the capabilities of LLMs through the integration of parameterized knowledge from language models with extensive nonparameterized data from external knowledge bases. Our survey illustrates the evolution of RAG technologies and their impact on knowledge-intensive tasks. Our analysis delineates three developmental paradigms within the RAG framework: Naive, Advanced, and Modular RAG, each marking a progressive enhancement over its predecessors. The Advanced RAG paradigm extends beyond the Naive approach by incorporating sophisticated architectural elements, including query rewriting, chunk reranking, and prompt summarization. These innovations have led to a more nuanced and modular architecture that enhances both the performance and the interpretability of LLMs. RAG's technical integration with other AI methodologies, such as fine-tuning and reinforcement learning, has further expanded its capabilities. In content retrieval, a hybrid methodology that leverages both structured and unstructured data sources is emerging as a trend, providing a more enriched retrieval process. Cutting-edge research within the RAG framework is exploring novel concepts such as self-retrieval from LLMs and the dynamic timing of information retrieval.\n",
      "\n",
      "Despite the strides made in RAG technology, research opportunities abound in improving its robustness and its ability to manage extended contexts. RAG's application scope is also widening into multimodal domains, adapting its princi- ples to interpret and process diverse data forms such as images, videos, and code. This expansion underscores RAG's significant practical implications for AI deployment, attracting interest from both academic and industrial sectors. The growing ecosystem of RAG is underscored by an increase in RAG-centric AI applications and the ongoing development of supportive tools. However, as RAG's application landscape expands, there is an imperative need to refine evaluation methodologies to keep pace with its evolution. Ensuring that performance assessments remain accurate and representative is crucial for capturing the full extent of RAG's contributions to the AI research and development community.\n",
      "\n",
      "\\section*{References}\n",
      "[Alon et al., 2022] Uri Alon, Frank Xu, Junxian He, Sudipta Sengupta, Dan Roth, and Graham Neubig. Neurosymbolic language modeling with automaton-augmented retrieval. In International Conference on Machine Learning, pages 468-485. PMLR, 2022.\n",
      "\n",
      "[Anderson et al., 2022] Nathan Anderson, Caleb Wilson, and Stephen D. Richardson. Lingua: Addressing scenarios for live interpretation and automatic dubbing. In Janice Campbell, Stephen Larocca, Jay Marciano, Konstantin Savenkov, and Alex Yanishevsky, editors, Proceedings of the 15th Biennial Conference of the Association for Machine Translation in the Americas (Volume 2: Users and Providers Track and Government Track), pages 202-209,\n",
      "\n",
      "Orlando, USA, September 2022. Association for Machine Translation in the Americas.\n",
      "\n",
      "[Arora et al., 2023] Daman Arora, Anush Kini, Sayak Ray Chowdhury, Nagarajan Natarajan, Gaurav Sinha, and Amit Sharma. Gar-meets-rag paradigm for zero-shot information retrieval. arXiv preprint arXiv:2310.20158, 2023.\n",
      "\n",
      "[Asai et al., 2023] Akari Asai, Zeqiu Wu, Yizhong Wang, Avirup Sil, and Hannaneh Hajishirzi. Self-rag: Learning to retrieve, generate, and critique through self-reflection. arXiv preprint arXiv:2310.11511, 2023.\n",
      "\n",
      "[BAAI, 2023] BAAI. Flagembedding. \\href{https://github.com/}{https://github.com/} FlagOpen/FlagEmbedding, 2023.\n",
      "\n",
      "[Baek et al., 2023] Jinheon Baek, Soyeong Jeong, Minki Kang, Jong C Park, and Sung Ju Hwang. Knowledgeaugmented language model verification. arXiv preprint arXiv:2310.12836, 2023.\n",
      "\n",
      "[Berchansky et al., 2023] Moshe Berchansky, Peter Izsak, Avi Caciularu, Ido Dagan, and Moshe Wasserblat. Optimizing retrieval-augmented reader models via token elimination. arXiv preprint arXiv:2310.13682, 2023.\n",
      "\n",
      "[Blagojevi, 2023] Vladimir Blagojevi. Enhancing rag pipelines in haystack: Introducing diversityranker and lostinthemiddleranker.\n",
      "\u001b[0m\u001b[1;3;38;5;200mRetrieved node with id, entering: 02378075-395a-4634-a36d-74a67df84bc2\n",
      "\u001b[0m\u001b[1;3;34mRetrieving with query id 02378075-395a-4634-a36d-74a67df84bc2: What paradigms of RAG exist?\n",
      "\u001b[0m\u001b[1;3;38;5;200mRetrieving text node: \\begin{abstract}\n",
      "Large Language Models (LLMs) demonstrate significant capabilities but face challenges such as hallucination, outdated knowledge, and nontransparent, untraceable reasoning processes. Retrieval-Augmented Generation (RAG) has emerged as a promising solution by incorporating knowledge from external databases. This enhances the accuracy and credibility of the models, particularly for knowledge-intensive tasks, and allows for continuous knowledge updates and integration of domain-specific information. RAG synergistically merges LLMs' intrinsic knowledge with the vast, dynamic repositories of external databases. This comprehensive review paper offers a detailed examination of the progression of RAG paradigms, encompassing the Naive RAG, the Advanced RAG, and the Modular RAG. It meticulously scrutinizes the tripartite foundation of RAG frameworks, which includes the retrieval, the generation and the augmentation techniques. The paper highlights the state-of-the-art technologies embedded in each of these critical components, providing a profound understanding of the advancements in RAG systems. Furthermore, this paper introduces the metrics and benchmarks for assessing RAG models, along with the most up-to-date evaluation framework. In conclusion, the paper delineates prospective avenues for research, including the identification of challenges, the expansion of multi-modalities, and the progression of the RAG infrastructure and its ecosystem. \\({ }^{1}\\).\n",
      "\\end{abstract}\n",
      "\n",
      "\\section*{1 Introduction}\n",
      "Large language models (LLMs) such as the GPT series [Brown et al., 2020, OpenAI, 2023] and the LLama series [Touvron et al., 2023], along with other models like Gemini [Google, 2023], have achieved remarkable success in natural language processing, demonstrating supe-\n",
      "\\footnotetext{*Corresponding \\href{mailto:Author.Email:haofen.wang@tongji.edu.cn}{Author.Email:haofen.wang@tongji.edu.cn}\n",
      "\n",
      "\\({ }^{1}\\) Resources are available at \\href{https://github.com/Tongji-KGLLM/}{https://github.com/Tongji-KGLLM/} RAG-Survey\n",
      "}\n",
      "\n",
      "rior performance on various benchmarks including SuperGLUE [Wang et al., 2019], MMLU [Hendrycks et al., 2020], and BIG-bench [Srivastava et al., 2022]. Despite these advancements, LLMs exhibit notable limitations, particularly in handling domain-specific or highly specialized queries [Kandpal et al., 2023]. A common issue is the generation of incorrect information, or \"hallucinations\" [Zhang et al., 2023b], especially when queries extend beyond the model's training data or necessitate up-to-date information. These shortcomings underscore the impracticality of deploying LLMs as black-box solutions in real-world production environments without additional safeguards. One promising approach to mitigate these limitations is RetrievalAugmented Generation (RAG), which integrates external data retrieval into the generative process, thereby enhancing the model's ability to provide accurate and relevant responses.\n",
      "\n",
      "RAG, introduced by Lewis et al. [Lewis et al., 2020] in mid-2020, stands as a paradigm within the realm of LLMs, enhancing generative tasks. Specifically, RAG involves an initial retrieval step where the LLMs query an external data source to obtain relevant information before proceeding to answer questions or generate text. This process not only informs the subsequent generation phase but also ensures that the responses are grounded in retrieved evidence, thereby significantly enhancing the accuracy and relevance of the output. The dynamic retrieval of information from knowledge bases during the inference phase allows RAG to address issues such as the generation of factually incorrect content, commonly referred to as \"hallucinations.\" The integration of RAG into LLMs has seen rapid adoption and has become a pivotal technology in refining the capabilities of chatbots and rendering LLMs more viable for practical applications.\n",
      "\n",
      "The evolutionary trajectory of RAG unfolds across four distinctive phases, as illustrated in Figure 1. In its inception in 2017, aligned with the emergence of the Transformer architecture, the primary thrust was on assimilating additional knowledge through Pre-Training Models (PTM) to augment language models. This epoch witnessed RAG's foundational efforts predominantly directed at optimizing pre-training methodologies.\n",
      "\n",
      "Following this initial phase, a period of relative dormancy ensued before the advent of chatGPT, during which there was minimal advancement in related research for RAG. The subsequent arrival of chatGPT marked a pivotal moment in the\n",
      "\n",
      "\\begin{center}\n",
      "\u001b[0m"
     ]
    }
   ],
   "source": [
    "retrieved_nodes = recursive_retriever.retrieve(\"What paradigms of RAG exist?\")"
   ]
  },
  {
   "cell_type": "code",
   "execution_count": null,
   "id": "a79a1c8a",
   "metadata": {},
   "outputs": [],
   "source": [
    "for node in retrieved_nodes:\n",
    "    print(type(node.node))"
   ]
  },
  {
   "cell_type": "code",
   "execution_count": 20,
   "id": "e3127233",
   "metadata": {},
   "outputs": [],
   "source": [
    "from PIL import Image\n",
    "import matplotlib.pyplot as plt\n",
    "import os\n",
    "import base64\n",
    "from io import BytesIO\n",
    "\n",
    "\n",
    "def plot_images(b64_images):\n",
    "    images_shown = 0\n",
    "    plt.figure(figsize=(16, 9))\n",
    "    for encoded_image in b64_images:\n",
    "        decoded_image = base64.b64decode(encoded_image)\n",
    "        image = Image.open(BytesIO(decoded_image))\n",
    "\n",
    "        plt.subplot(2, 3, images_shown + 1)\n",
    "        plt.imshow(image)\n",
    "        plt.xticks([])\n",
    "        plt.yticks([])\n",
    "\n",
    "        images_shown += 1\n",
    "        if images_shown >= 9:\n",
    "            break"
   ]
  },
  {
   "cell_type": "code",
   "execution_count": 22,
   "id": "268ca39c",
   "metadata": {},
   "outputs": [
    {
     "data": {
      "text/markdown": [
       "**Node ID:** b742a42a-6199-4d52-b7da-e13626612a76<br>**Similarity:** 0.8588535325558981<br>**Text:** \\end{center}\n",
       "\n",
       "Modular RAG\n",
       "\n",
       "Figure 3: Comparison between the three paradigms of RAG\n",
       "\n",
       "is depicted in Figure 3. However, Modular RAG is not standalone. Advanced RAG is a specialized form of modular RA...<br>"
      ],
      "text/plain": [
       "<IPython.core.display.Markdown object>"
      ]
     },
     "metadata": {},
     "output_type": "display_data"
    },
    {
     "data": {
      "text/markdown": [
       "**Node ID:** 4870b988-1df2-471a-a692-c6d0e1afdb18<br>**Similarity:** 0.853568086931692<br>**Text:** During the evolution of the RAG technology landscape, there has been a clear divergence towards different specializations, such as: 1) Customization. Tailoring RAG to meet a specific requirements. ...<br>"
      ],
      "text/plain": [
       "<IPython.core.display.Markdown object>"
      ]
     },
     "metadata": {},
     "output_type": "display_data"
    },
    {
     "data": {
      "text/markdown": [
       "**Node ID:** 1b883499-feec-409e-8a93-f93084137075<br>**Similarity:** 0.8439902079491434<br>**Text:** \\end{center}\n",
       "\n",
       "Figure 7: Summary of RAG ecosystem\n",
       "\n",
       "\\section*{9 Conclusion}\n",
       "The summary of this paper, as depicted in Figure 7, highlights RAG's significant advancement in enhancing the capabilities ...<br>"
      ],
      "text/plain": [
       "<IPython.core.display.Markdown object>"
      ]
     },
     "metadata": {},
     "output_type": "display_data"
    },
    {
     "data": {
      "text/markdown": [
       "**Node ID:** 2e82a632-36e0-42e0-bc01-27774a3c71d2<br>**Similarity:** 0.8417990083551489<br>**Text:** \\begin{abstract}\n",
       "Large Language Models (LLMs) demonstrate significant capabilities but face challenges such as hallucination, outdated knowledge, and nontransparent, untraceable reasoning processes...<br>"
      ],
      "text/plain": [
       "<IPython.core.display.Markdown object>"
      ]
     },
     "metadata": {},
     "output_type": "display_data"
    },
    {
     "data": {
      "image/png": "[encoded data removed]",
      "text/plain": [
       "<Figure size 1600x900 with 1 Axes>"
      ]
     },
     "metadata": {},
     "output_type": "display_data"
    }
   ],
   "source": [
    "from llama_index.core.response.notebook_utils import display_source_node\n",
    "from llama_index.core.schema import ImageNode\n",
    "\n",
    "retrieved_image = []\n",
    "for node in retrieved_nodes:\n",
    "    if isinstance(node.node, ImageNode):\n",
    "        retrieved_image.append(node.node.image)\n",
    "    else:\n",
    "        display_source_node(node, source_length=200)\n",
    "\n",
    "plot_images(retrieved_image)"
   ]
  },
  {
   "cell_type": "code",
   "execution_count": null,
   "id": "bc66b63a",
   "metadata": {},
   "outputs": [],
   "source": []
  }
 ],
 "metadata": {
  "kernelspec": {
   "display_name": "Python 3 (ipykernel)",
   "language": "python",
   "name": "python3"
  },
  "language_info": {
   "codemirror_mode": {
    "name": "ipython",
    "version": 3
   },
   "file_extension": ".py",
   "mimetype": "text/x-python",
   "name": "python",
   "nbconvert_exporter": "python",
   "pygments_lexer": "ipython3",
   "version": "3.11.0"
  }
 },
 "nbformat": 4,
 "nbformat_minor": 5
}
