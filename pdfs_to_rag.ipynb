{
 "cells": [
  {
   "cell_type": "code",
   "outputs": [],
   "source": [
    "from dotenv import load_dotenv, find_dotenv\n",
    "\n",
    "_ = load_dotenv(find_dotenv(\".env\"))  # read local .env file"
   ],
   "metadata": {
    "collapsed": false
   },
   "id": "546bdb1f0b18d4d2",
   "execution_count": null
  },
  {
   "cell_type": "code",
   "outputs": [],
   "source": [
    "from pathlib import Path"
   ],
   "metadata": {
    "collapsed": false
   },
   "id": "375c2c8974cb6743",
   "execution_count": null
  },
  {
   "cell_type": "code",
   "outputs": [],
   "source": [
    "from langchain_openai import ChatOpenAI\n",
    "from pdf_parser.pdf_processor import MathpixPdfConverter"
   ],
   "metadata": {
    "collapsed": false
   },
   "id": "3698ac0cc711b45a",
   "execution_count": null
  },
  {
   "cell_type": "code",
   "outputs": [],
   "source": [
    "vision_model = ChatOpenAI(model_name=\"gpt-4-vision-preview\")\n",
    "text_model = ChatOpenAI(model_name=\"gpt-4-1106\", temperature=0)"
   ],
   "metadata": {
    "collapsed": false
   },
   "id": "eb639e95140289e5",
   "execution_count": null
  },
  {
   "cell_type": "code",
   "outputs": [],
   "source": [
    "converter = MathpixPdfConverter(text_model=text_model, vision_model=vision_model)"
   ],
   "metadata": {
    "collapsed": false
   },
   "id": "63b0151ec9cf2235",
   "execution_count": null
  },
  {
   "cell_type": "code",
   "outputs": [],
   "source": [
    "inbox_path = Path(\"./inbox\")\n",
    "fulltext_path = Path(\"./fulltext\")\n",
    "fulltext_path.mkdir(exist_ok=True, parents=True)"
   ],
   "metadata": {
    "collapsed": false
   },
   "id": "ecc5fb9dd7a83881",
   "execution_count": null
  },
  {
   "cell_type": "code",
   "outputs": [],
   "source": [
    "for pdf_path in inbox_path.glob(\"*.pdf\"):\n",
    "    pdf_result = converter.convert(pdf_path)\n",
    "    with fulltext_path.joinpath(f\"{pdf_path.stem}.txt\").open(\"w\") as f:\n",
    "        f.write(pdf_result.content)"
   ],
   "metadata": {
    "collapsed": false
   },
   "id": "fa638a4da7692021",
   "execution_count": null
  },
  {
   "cell_type": "code",
   "execution_count": null,
   "id": "initial_id",
   "metadata": {
    "collapsed": true
   },
   "outputs": [],
   "source": [
    "from rag_factory import build_query_engine"
   ]
  },
  {
   "cell_type": "code",
   "outputs": [],
   "source": [
    "query_engine = build_query_engine(fulltext_path.as_posix())"
   ],
   "metadata": {
    "collapsed": false
   },
   "id": "92014311d5222f45",
   "execution_count": null
  },
  {
   "cell_type": "code",
   "outputs": [],
   "source": [
    "response = query_engine.query(\"How to action unit activations correspond to stress?\")\n",
    "print(response)"
   ],
   "metadata": {
    "collapsed": false
   },
   "id": "dd1d2024e1d5b49b",
   "execution_count": null
  },
  {
   "cell_type": "code",
   "outputs": [],
   "source": [],
   "metadata": {
    "collapsed": false
   },
   "id": "4d29cc55c5bba4d5"
  }
 ],
 "metadata": {
  "kernelspec": {
   "display_name": "Python 3",
   "language": "python",
   "name": "python3"
  },
  "language_info": {
   "codemirror_mode": {
    "name": "ipython",
    "version": 2
   },
   "file_extension": ".py",
   "mimetype": "text/x-python",
   "name": "python",
   "nbconvert_exporter": "python",
   "pygments_lexer": "ipython2",
   "version": "2.7.6"
  }
 },
 "nbformat": 4,
 "nbformat_minor": 5
}
